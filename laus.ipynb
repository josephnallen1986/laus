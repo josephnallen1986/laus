{
 "cells": [
  {
   "cell_type": "code",
   "execution_count": 4,
   "metadata": {},
   "outputs": [
    {
     "name": "stdout",
     "output_type": "stream",
     "text": [
      "201684\n"
     ]
    }
   ],
   "source": [
    "import requests\n",
    "import pandas as pd\n",
    "\n",
    "# The API endpoint for the CA LMID LAUS dataset\n",
    "endpoint = \"https://data.edd.ca.gov/resource/e6gw-gvii.json\"\n",
    "\n",
    "# Initialize an empty list to store all the data\n",
    "all_data = []\n",
    "\n",
    "# Set the initial parameters for pagination (if applicable)\n",
    "params = {\"$limit\": 1000, \"$offset\": 0}\n",
    "\n",
    "while True:\n",
    "    # Make the HTTP request with the current parameters\n",
    "    response = requests.get(endpoint, params=params)\n",
    "\n",
    "    # Check the response status code\n",
    "    if response.status_code != 200:\n",
    "        # The request failed, so print an error message\n",
    "        print(f\"Error fetching data from {endpoint}: {response.status_code}\")\n",
    "        break\n",
    "    \n",
    "    # The request was successful, so get the JSON data\n",
    "    data = response.json()\n",
    "    \n",
    "    # Add the current batch of data to the all_data list\n",
    "    all_data.extend(data)\n",
    "    \n",
    "    # Check if there is more data to retrieve\n",
    "    if len(data) < 1000:\n",
    "        break\n",
    "    \n",
    "    # Update the offset for the next request\n",
    "    params[\"$offset\"] += 1000"
   ]
  },
  {
   "cell_type": "code",
   "execution_count": 38,
   "metadata": {},
   "outputs": [],
   "source": [
    "df = pd.DataFrame(all_data)\n",
    "df = df.query('area_name == \"San Diego-Carlsbad MSA\" and year >= \"2018\" and seasonally_adjusted_y_n == \"N\"')"
   ]
  },
  {
   "cell_type": "code",
   "execution_count": 43,
   "metadata": {},
   "outputs": [],
   "source": [
    "# data type dicionary\n",
    "dtypes = {\n",
    "    'area_name' : 'str',\n",
    "    'date': 'datetime64[ns]',\n",
    "    'year': 'int',\n",
    "    'month': 'str',\n",
    "    'labor_force': 'str',\n",
    "    'employment': 'str',\n",
    "    'unemployment': 'int',\n",
    "    'unemployment_rate': 'float'}\n",
    "\n",
    "df = df.astype(dtypes)\n",
    "\n",
    "df = df.sort_values(by='date')"
   ]
  },
  {
   "cell_type": "code",
   "execution_count": 44,
   "metadata": {},
   "outputs": [
    {
     "name": "stdout",
     "output_type": "stream",
     "text": [
      "                     area_name       date  year     month labor_force  \\\n",
      "10172   San Diego-Carlsbad MSA 2018-01-01  2018   January     1569700   \n",
      "26393   San Diego-Carlsbad MSA 2018-02-01  2018  February     1582800   \n",
      "42619   San Diego-Carlsbad MSA 2018-03-01  2018     March     1582500   \n",
      "58845   San Diego-Carlsbad MSA 2018-04-01  2018     April     1569300   \n",
      "75071   San Diego-Carlsbad MSA 2018-05-01  2018       May     1573100   \n",
      "...                        ...        ...   ...       ...         ...   \n",
      "47757   San Diego-Carlsbad MSA 2023-03-01  2023     March     1618200   \n",
      "63983   San Diego-Carlsbad MSA 2023-04-01  2023     April     1598900   \n",
      "80186   San Diego-Carlsbad MSA 2023-05-01  2023       May     1595000   \n",
      "96435   San Diego-Carlsbad MSA 2023-06-01  2023      June     1591600   \n",
      "112638  San Diego-Carlsbad MSA 2023-07-01  2023      July     1599100   \n",
      "\n",
      "       employment  unemployment  unemployment_rate  \n",
      "10172     1511200         58500              0.037  \n",
      "26393     1526800         56000              0.035  \n",
      "42619     1529300         53200              0.034  \n",
      "58845     1520900         48400              0.031  \n",
      "75071     1527800         45200              0.029  \n",
      "...           ...           ...                ...  \n",
      "47757     1558700         59500              0.037  \n",
      "63983     1546100         52800              0.033  \n",
      "80186     1539300         55800              0.035  \n",
      "96435     1528200         63400              0.040  \n",
      "112638    1536300         62800              0.039  \n",
      "\n",
      "[66 rows x 8 columns]\n"
     ]
    }
   ],
   "source": [
    "cols = list(dtypes.keys())\n",
    "df = df[cols]"
   ]
  }
 ],
 "metadata": {
  "kernelspec": {
   "display_name": ".venv",
   "language": "python",
   "name": "python3"
  },
  "language_info": {
   "codemirror_mode": {
    "name": "ipython",
    "version": 3
   },
   "file_extension": ".py",
   "mimetype": "text/x-python",
   "name": "python",
   "nbconvert_exporter": "python",
   "pygments_lexer": "ipython3",
   "version": "3.11.3"
  },
  "orig_nbformat": 4
 },
 "nbformat": 4,
 "nbformat_minor": 2
}
